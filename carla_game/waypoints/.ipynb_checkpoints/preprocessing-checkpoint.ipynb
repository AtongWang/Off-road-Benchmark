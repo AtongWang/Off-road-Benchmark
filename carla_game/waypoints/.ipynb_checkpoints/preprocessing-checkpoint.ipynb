{
 "cells": [
  {
   "cell_type": "code",
   "execution_count": 86,
   "metadata": {},
   "outputs": [],
   "source": [
    "import pandas as pd"
   ]
  },
  {
   "cell_type": "code",
   "execution_count": 87,
   "metadata": {},
   "outputs": [],
   "source": [
    "def scale_waypoints_data(data, divide):\n",
    "    data_new = data[data[\"location.x\"].index%divide==0]\n",
    "    data_new.reset_index(drop=True, inplace=True)\n",
    "    data_new_len = len(data_new)\n",
    "    \n",
    "    mae = []\n",
    "    for i in range(data_len-1):\n",
    "        ae = abs(scaled_col[i]-scaled_col[i+1])\n",
    "        mae.append(ae)\n",
    "\n",
    "    mae = sum(mae)/len(mae)\n",
    "    return data_new, mae"
   ]
  },
  {
   "cell_type": "code",
   "execution_count": 88,
   "metadata": {},
   "outputs": [],
   "source": [
    "file_names = [\n",
    "    \"measurements_off1.csv\",\n",
    "    \"measurements_off2.csv\",\n",
    "    \"measurements_off3.csv\",\n",
    "    \"measurements_off4.csv\"\n",
    "]"
   ]
  },
  {
   "cell_type": "code",
   "execution_count": 90,
   "metadata": {},
   "outputs": [
    {
     "name": "stdout",
     "output_type": "stream",
     "text": [
      "measurements_off1.csv\n",
      "3.8373473479396965\n",
      "\n",
      "measurements_off2.csv\n",
      "3.8373473479396965\n",
      "\n",
      "measurements_off3.csv\n",
      "3.8373473479396965\n",
      "\n",
      "measurements_off4.csv\n",
      "3.8373473479396965\n",
      "\n"
     ]
    }
   ],
   "source": [
    "save = True\n",
    "for file_name in file_names:\n",
    "    data = pd.read_csv(file_name)\n",
    "    data_new, mae = scale_waypoints_data(data, 14)\n",
    "    print(file_name)\n",
    "    print(mae)\n",
    "    print()\n",
    "    \n",
    "    if save:\n",
    "        data_new.to_csv(file_name[:-4] + \"_scaled.csv\")"
   ]
  }
 ],
 "metadata": {
  "kernelspec": {
   "display_name": "Python 3",
   "language": "python",
   "name": "python3"
  },
  "language_info": {
   "codemirror_mode": {
    "name": "ipython",
    "version": 3
   },
   "file_extension": ".py",
   "mimetype": "text/x-python",
   "name": "python",
   "nbconvert_exporter": "python",
   "pygments_lexer": "ipython3",
   "version": "3.6.9"
  }
 },
 "nbformat": 4,
 "nbformat_minor": 4
}
