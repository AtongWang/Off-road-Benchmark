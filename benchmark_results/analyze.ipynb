{
 "cells": [
  {
   "cell_type": "code",
   "execution_count": 10,
   "metadata": {},
   "outputs": [],
   "source": [
    "import pandas as pd\n",
    "import copy\n",
    "import os\n",
    "import numpy as np\n",
    "import copy"
   ]
  },
  {
   "cell_type": "markdown",
   "metadata": {},
   "source": [
    "# Functions"
   ]
  },
  {
   "cell_type": "code",
   "execution_count": 11,
   "metadata": {},
   "outputs": [],
   "source": [
    "distances = [\n",
    "    100,\n",
    "    200,\n",
    "    300,\n",
    "    400,\n",
    "    500,\n",
    "    600,\n",
    "    -1\n",
    "]"
   ]
  },
  {
   "cell_type": "code",
   "execution_count": 12,
   "metadata": {
    "scrolled": true
   },
   "outputs": [],
   "source": [
    "def concat_results(result_name):\n",
    "    file_names = []\n",
    "    for filename in os.listdir():\n",
    "        if result_name in filename and result_name+\".csv\"!=filename:\n",
    "            file_names.append(filename)\n",
    "\n",
    "    csv_file = pd.concat([pd.read_csv(file) for file in file_names])\n",
    "    \n",
    "    if \"wheather\" in csv_file.columns.tolist():\n",
    "        csv_file.rename(columns = {\"wheather\": \"weather\"}, inplace = True)\n",
    "    \n",
    "    csv_file.to_csv(result_name + \".csv\", index=False)\n",
    "    \n",
    "    print(\"find files\")\n",
    "    print(file_names)\n",
    "    print(\"write new csv\")\n",
    "    print(result_name + \".csv\")\n",
    "    print()\n",
    "\n",
    "def string_to_dict(string_):\n",
    "    string = copy.deepcopy(string_)\n",
    "    string = string.replace(\"array\", \"np.array\")\n",
    "    string = string.replace(\"inf\", \"10000\")\n",
    "    string = string.replace(\"nan\", \"-1\")\n",
    "    return eval(string)\n",
    "\n",
    "def add_mean(result):\n",
    "    global distances\n",
    "    for i in result.keys():\n",
    "        vals = [result[i][j] for j in distances]\n",
    "        result[i][\"mean\"] = sum(vals)/len(vals)\n",
    "    return result\n",
    "\n",
    "def print_result(result, multiplier=100, round_num=None):\n",
    "    global distances\n",
    "    row_format = \"{:>20}\" * (len(result.keys()) + 1)\n",
    "    print(row_format.format(\"\", *result.keys()))\n",
    "    \n",
    "    for dist in distances+[\"mean\"]:\n",
    "        row = [round(result[conditions][dist]*multiplier, round_num) for conditions in result.keys()]\n",
    "        print(row_format.format(dist, *row))\n",
    "    \n",
    "    print(\"-\"*100)\n",
    "    for dist in [\"out_of_track\", \"is_collision\", \"nospeed\"]:\n",
    "        row = [round(result[conditions][dist]*multiplier, round_num) for conditions in result.keys()]\n",
    "        print(row_format.format(dist, *row))"
   ]
  },
  {
   "cell_type": "code",
   "execution_count": 13,
   "metadata": {},
   "outputs": [],
   "source": [
    "def get_result_by_conditions(result_csv, result_key = \"success\"):\n",
    "    \n",
    "    \n",
    "    training_conditions = {\n",
    "        \"city_name\": [\"Offroad_1\"],\n",
    "        \"weather\": [\"ClearNoon\"],\n",
    "    }\n",
    "\n",
    "    in_keys = {\n",
    "        100: [],\n",
    "        200: [],\n",
    "        300: [],\n",
    "        400: [],\n",
    "        500: [],\n",
    "        600: [],\n",
    "        -1: [],\n",
    "        \"out_of_track\": [],\n",
    "        \"is_collision\": [],\n",
    "        \"nospeed\": []\n",
    "    }\n",
    "\n",
    "    result = {\n",
    "        \"training_conditions\": copy.deepcopy(in_keys),\n",
    "        \"new_weather\": copy.deepcopy(in_keys),\n",
    "        \"new_city\": copy.deepcopy(in_keys),\n",
    "        \"new_city_weather\": copy.deepcopy(in_keys)\n",
    "    }\n",
    "\n",
    "    for i in range(len(result_csv)):\n",
    "        line = result_csv.iloc[i]\n",
    "        \n",
    "\n",
    "        same_city = line[\"city_name\"] in training_conditions[\"city_name\"]\n",
    "        same_weather = line[\"weather\"] in training_conditions[\"weather\"]\n",
    "        dist = int(line[\"lane_distance\"])\n",
    "        \n",
    "        condition = \"\"\n",
    "        if same_city and same_weather:\n",
    "            condition = \"training_conditions\"\n",
    "        elif not same_city and same_weather:\n",
    "            condition = \"new_city\"\n",
    "        elif same_city and not same_weather:\n",
    "            condition = \"new_weather\"\n",
    "        elif not same_city and not same_weather:\n",
    "            condition = \"new_city_weather\"\n",
    "        \n",
    "        epinfos = string_to_dict(line[\"epinfos\"])\n",
    "        \n",
    "        success = int(line[\"success\"])\n",
    "        epinfos[\"success\"] = success\n",
    "        result[condition][dist].append(epinfos[result_key])\n",
    "        \n",
    "        out_of_track = epinfos[\"track_width\"]/2 < epinfos[\"distance_from_center\"] and epinfos[\"distance_from_center\"]!=-1\n",
    "        is_collision = epinfos[\"is_collision\"]\n",
    "        nospeed = epinfos[\"nospeedtime_step\"] > 20\n",
    "        \n",
    "        if not success:\n",
    "            result[condition][\"out_of_track\"].append(out_of_track)\n",
    "            result[condition][\"is_collision\"].append(is_collision)\n",
    "            result[condition][\"nospeed\"].append(nospeed)\n",
    "        \n",
    "    for i in result.keys():\n",
    "        for j in result[i].keys():\n",
    "            try:\n",
    "                result[i][j] = sum(result[i][j])/len(result[i][j])\n",
    "            except ZeroDivisionError:\n",
    "                result[i][j] = 0\n",
    "                print(\"no data\", i, j)\n",
    "    return result\n",
    "\n",
    "def get_result_by_offroads(result_csv, result_key=\"success\"):\n",
    "    training_conditions = {\n",
    "        \"city_name\": [\"Offroad_1\"],\n",
    "        \"weather\": [\"ClearNoon\"],\n",
    "    }\n",
    "\n",
    "    in_keys = {\n",
    "        100: [],\n",
    "        200: [],\n",
    "        300: [],\n",
    "        400: [],\n",
    "        500: [],\n",
    "        600: [],\n",
    "        -1: [],\n",
    "        \"out_of_track\": [],\n",
    "        \"is_collision\": [],\n",
    "        \"nospeed\": []\n",
    "    }\n",
    "\n",
    "    result = {\n",
    "        \"Offroad_1\": copy.deepcopy(in_keys),\n",
    "        \"Offroad_2\": copy.deepcopy(in_keys),\n",
    "        \"Offroad_3\": copy.deepcopy(in_keys),\n",
    "        \"Offroad_4\": copy.deepcopy(in_keys),\n",
    "        \"Offroad_5\": copy.deepcopy(in_keys),\n",
    "        \"Offroad_6\": copy.deepcopy(in_keys),\n",
    "        \"Offroad_7\": copy.deepcopy(in_keys),\n",
    "        \"Offroad_8\": copy.deepcopy(in_keys)\n",
    "    }\n",
    "\n",
    "    for i in range(len(result_csv)):\n",
    "        line = result_csv.iloc[i]\n",
    "\n",
    "        dist = int(line[\"lane_distance\"])\n",
    "        \n",
    "        success = int(line[\"success\"])\n",
    "        epinfos = string_to_dict(line[\"epinfos\"])\n",
    "        epinfos[\"success\"] = success\n",
    "        \n",
    "        result[line[\"city_name\"]][dist].append(epinfos[result_key])\n",
    "        \n",
    "        out_of_track = epinfos[\"track_width\"]/2 < epinfos[\"distance_from_center\"] and epinfos[\"distance_from_center\"]!=-1\n",
    "        is_collision = epinfos[\"is_collision\"]\n",
    "        nospeed = epinfos[\"nospeedtime_step\"] > 20\n",
    "        \n",
    "        if not success:\n",
    "            result[line[\"city_name\"]][\"out_of_track\"].append(out_of_track)\n",
    "            result[line[\"city_name\"]][\"is_collision\"].append(is_collision)\n",
    "            result[line[\"city_name\"]][\"nospeed\"].append(nospeed)\n",
    "        \n",
    "    for i in result.keys():\n",
    "        for j in result[i].keys():\n",
    "            try:\n",
    "                result[i][j] = sum(result[i][j])/len(result[i][j])\n",
    "            except ZeroDivisionError:\n",
    "                result[i][j] = 0\n",
    "                print(\"no data\", i, j)\n",
    "    return result"
   ]
  },
  {
   "cell_type": "markdown",
   "metadata": {},
   "source": [
    "# Success percentage by Conditions"
   ]
  },
  {
   "cell_type": "code",
   "execution_count": 14,
   "metadata": {},
   "outputs": [],
   "source": [
    "results = [\n",
    "    \"sample_result\"\n",
    "]"
   ]
  },
  {
   "cell_type": "code",
   "execution_count": 15,
   "metadata": {
    "scrolled": true
   },
   "outputs": [
    {
     "name": "stdout",
     "output_type": "stream",
     "text": [
      "no data training_conditions out_of_track\n",
      "no data training_conditions is_collision\n",
      "no data training_conditions nospeed\n",
      "sample_result\n",
      "\n",
      "                     training_conditions         new_weather            new_city    new_city_weather\n",
      "                 100                 100                 100                  33                  32\n",
      "                 200                 100                 100                  24                  23\n",
      "                 300                 100                 100                  17                  24\n",
      "                 400                 100                 100                  23                  20\n",
      "                 500                 100                  98                  14                  20\n",
      "                 600                 100                 100                  17                  19\n",
      "                  -1                 100                 100                   0                   0\n",
      "                mean                 100                 100                  18                  20\n",
      "----------------------------------------------------------------------------------------------------\n",
      "        out_of_track                   0                 100                  75                  81\n",
      "        is_collision                   0                   0                  18                  13\n",
      "             nospeed                   0                   0                   7                   7\n",
      "\n"
     ]
    }
   ],
   "source": [
    "for name in results:\n",
    "    csv_file = pd.read_csv(name+\".csv\")\n",
    "    result = get_result_by_conditions(csv_file, result_key=\"success\")\n",
    "    result = add_mean(result)\n",
    "    \n",
    "    print(name)\n",
    "    print()\n",
    "    print_result(result, multiplier=100, round_num=None)\n",
    "    \n",
    "    try:\n",
    "        os.mkdir(\"Success percentage by Conditions\")\n",
    "    except:\n",
    "        pass\n",
    "    result = pd.DataFrame(result)\n",
    "    result *= 100\n",
    "    result = result.astype(int)\n",
    "    result.to_csv(f\"Success percentage by Conditions/{name}.csv\")\n",
    "    print()"
   ]
  },
  {
   "cell_type": "markdown",
   "metadata": {},
   "source": [
    "# Success percentage by Offroads"
   ]
  },
  {
   "cell_type": "code",
   "execution_count": 16,
   "metadata": {
    "scrolled": false
   },
   "outputs": [
    {
     "name": "stdout",
     "output_type": "stream",
     "text": [
      "sample_result\n",
      "\n",
      "                               Offroad_1           Offroad_2           Offroad_3           Offroad_4           Offroad_5           Offroad_6           Offroad_7           Offroad_8\n",
      "                 100                 100                  45                  87                  93                   0                   0                   0                   0\n",
      "                 200                 100                   3                  75                  85                   0                   0                   0                   0\n",
      "                 300                 100                   3                  77                  82                   0                   0                   0                   0\n",
      "                 400                 100                   0                  77                  68                   0                   0                   0                   0\n",
      "                 500                  98                   0                  67                  65                   0                   0                   0                   0\n",
      "                 600                 100                   0                  65                  68                   0                   0                   0                   0\n",
      "                  -1                 100                   0                   0                   0                   0                   0                   0                   0\n",
      "                mean                 100                   7                  64                  66                   0                   0                   0                   0\n",
      "----------------------------------------------------------------------------------------------------\n",
      "        out_of_track                 100                  86                  36                  10                  87                  86                  88                  92\n",
      "        is_collision                   0                  13                  51                  15                  13                  11                  10                   8\n",
      "             nospeed                   0                   2                  13                  76                   1                   3                   3                   1\n",
      "\n"
     ]
    }
   ],
   "source": [
    "for name in results:\n",
    "    csv_file = pd.read_csv(name+\".csv\")\n",
    "    result = get_result_by_offroads(csv_file, result_key=\"success\")\n",
    "    result = add_mean(result)\n",
    "    \n",
    "    print(name)\n",
    "    print()\n",
    "    print_result(result, multiplier=100, round_num=None)\n",
    "    \n",
    "    try:\n",
    "        os.mkdir(\"Success percentage by Offroads\")\n",
    "    except:\n",
    "        pass\n",
    "    result = pd.DataFrame(result)\n",
    "    result *= 100\n",
    "    result = result.astype(int)\n",
    "    result.to_csv(f\"Success percentage by Offroads/{name}.csv\")\n",
    "    print()"
   ]
  },
  {
   "cell_type": "markdown",
   "metadata": {},
   "source": [
    "# Average speed by Conditions"
   ]
  },
  {
   "cell_type": "code",
   "execution_count": 17,
   "metadata": {},
   "outputs": [],
   "source": [
    "keys = [\"average_speed\" for _ in range(len(results))]"
   ]
  },
  {
   "cell_type": "code",
   "execution_count": 18,
   "metadata": {
    "scrolled": true
   },
   "outputs": [
    {
     "name": "stdout",
     "output_type": "stream",
     "text": [
      "no data training_conditions out_of_track\n",
      "no data training_conditions is_collision\n",
      "no data training_conditions nospeed\n",
      "sample_result\n",
      "\n",
      "                     training_conditions         new_weather            new_city    new_city_weather\n",
      "                 100                 5.3                 5.4                 3.9                 4.3\n",
      "                 200                 5.8                 5.8                 4.1                 4.4\n",
      "                 300                 5.7                 6.0                 4.1                 4.5\n",
      "                 400                 5.8                 6.0                 4.0                 4.5\n",
      "                 500                 5.9                 6.1                 4.0                 4.4\n",
      "                 600                 5.9                 6.1                 4.3                 4.3\n",
      "                  -1                 6.0                 6.2                 4.2                 4.5\n",
      "                mean                 5.8                 6.0                 4.1                 4.4\n",
      "----------------------------------------------------------------------------------------------------\n",
      "        out_of_track                   0                 1.0                 0.8                 0.8\n",
      "        is_collision                   0                 0.0                 0.2                 0.1\n",
      "             nospeed                   0                 0.0                 0.1                 0.1\n",
      "\n"
     ]
    }
   ],
   "source": [
    "for name, key in zip(results, keys):\n",
    "    csv_file = pd.read_csv(name+\".csv\")\n",
    "    result = get_result_by_conditions(csv_file, result_key=key)\n",
    "    result = add_mean(result)\n",
    "    \n",
    "    print(name)\n",
    "    print()\n",
    "    print_result(result, multiplier=1, round_num=1)\n",
    "    \n",
    "    try:\n",
    "        os.mkdir(\"Average speed by Conditions\")\n",
    "    except:\n",
    "        pass\n",
    "    result = pd.DataFrame(result)\n",
    "    result = result.round(1)\n",
    "    result.to_csv(f\"Average speed by Conditions/{name}.csv\")\n",
    "    print()"
   ]
  },
  {
   "cell_type": "markdown",
   "metadata": {},
   "source": [
    "# Average speed by Offroads"
   ]
  },
  {
   "cell_type": "code",
   "execution_count": 19,
   "metadata": {},
   "outputs": [],
   "source": [
    "keys = [\"average_speed\" for _ in range(len(results))]"
   ]
  },
  {
   "cell_type": "code",
   "execution_count": 20,
   "metadata": {
    "scrolled": true
   },
   "outputs": [
    {
     "name": "stdout",
     "output_type": "stream",
     "text": [
      "sample_result\n",
      "\n",
      "                               Offroad_1           Offroad_2           Offroad_3           Offroad_4           Offroad_5           Offroad_6           Offroad_7           Offroad_8\n",
      "                 100                 5.4                 5.4                 5.4                 5.5                 3.5                 3.0                 3.5                 3.5\n",
      "                 200                 5.8                 5.6                 5.8                 5.6                 3.3                 2.9                 3.4                 3.7\n",
      "                 300                 6.0                 5.8                 5.7                 6.0                 3.7                 2.9                 3.5                 3.7\n",
      "                 400                 6.0                 5.4                 5.7                 5.6                 3.6                 2.8                 3.9                 3.6\n",
      "                 500                 6.1                 5.6                 5.6                 5.8                 3.4                 2.9                 3.6                 3.7\n",
      "                 600                 6.1                 5.3                 5.9                 5.6                 3.5                 2.8                 3.5                 3.6\n",
      "                  -1                 6.2                 6.0                 5.5                 5.8                 3.5                 3.0                 3.8                 3.6\n",
      "                mean                 5.9                 5.6                 5.7                 5.7                 3.5                 2.9                 3.6                 3.6\n",
      "----------------------------------------------------------------------------------------------------\n",
      "        out_of_track                 1.0                 0.9                 0.4                 0.1                 0.9                 0.9                 0.9                 0.9\n",
      "        is_collision                 0.0                 0.1                 0.5                 0.1                 0.1                 0.1                 0.1                 0.1\n",
      "             nospeed                 0.0                 0.0                 0.1                 0.8                 0.0                 0.0                 0.0                 0.0\n",
      "\n"
     ]
    }
   ],
   "source": [
    "for name, key in zip(results, keys):\n",
    "    csv_file = pd.read_csv(name+\".csv\")\n",
    "    result = get_result_by_offroads(csv_file, result_key=key)\n",
    "    result = add_mean(result)\n",
    "    \n",
    "    print(name)\n",
    "    print()\n",
    "    print_result(result, multiplier=1, round_num=1)\n",
    "    \n",
    "    try:\n",
    "        os.mkdir(\"Average speed by Offroads\")\n",
    "    except:\n",
    "        pass\n",
    "    result = pd.DataFrame(result)\n",
    "    result = result.round(1)\n",
    "    result.to_csv(f\"Average speed by Offroads/{name}.csv\")\n",
    "    print()"
   ]
  },
  {
   "cell_type": "markdown",
   "metadata": {},
   "source": [
    "# Infraction Test"
   ]
  },
  {
   "cell_type": "code",
   "execution_count": 21,
   "metadata": {},
   "outputs": [],
   "source": [
    "keys = [\"current_step\"]"
   ]
  },
  {
   "cell_type": "code",
   "execution_count": 22,
   "metadata": {
    "scrolled": false
   },
   "outputs": [
    {
     "name": "stdout",
     "output_type": "stream",
     "text": [
      "no data training_conditions out_of_track\n",
      "no data training_conditions is_collision\n",
      "no data training_conditions nospeed\n",
      "sample_result\n",
      "\n",
      "                     training_conditions         new_weather            new_city    new_city_weather\n",
      "                 100               190.1               185.0               110.3               101.4\n",
      "                 200               342.9               342.8               157.2               144.2\n",
      "                 300               519.5               491.7               177.8               189.0\n",
      "                 400               677.3               657.4               235.5               231.1\n",
      "                 500               833.8               806.3               234.5               261.8\n",
      "                 600               994.9               966.2               285.3               282.8\n",
      "                  -1              1980.1              1906.6               629.5               732.7\n",
      "                mean               791.2               765.1               261.4               277.6\n",
      "----------------------------------------------------------------------------------------------------\n",
      "        out_of_track                   0                 1.0                 0.8                 0.8\n",
      "        is_collision                   0                 0.0                 0.2                 0.1\n",
      "             nospeed                   0                 0.0                 0.1                 0.1\n",
      "\n"
     ]
    }
   ],
   "source": [
    "for name, key in zip(results, keys):\n",
    "    csv_file = pd.read_csv(name+\".csv\")\n",
    "    result = get_result_by_conditions(csv_file, result_key=key)\n",
    "    result = add_mean(result)\n",
    "    \n",
    "    print(name)\n",
    "    print()\n",
    "    print_result(result, multiplier=1, round_num=1)\n",
    "    print()"
   ]
  }
 ],
 "metadata": {
  "kernelspec": {
   "display_name": "Python 3",
   "language": "python",
   "name": "python3"
  },
  "language_info": {
   "codemirror_mode": {
    "name": "ipython",
    "version": 3
   },
   "file_extension": ".py",
   "mimetype": "text/x-python",
   "name": "python",
   "nbconvert_exporter": "python",
   "pygments_lexer": "ipython3",
   "version": "3.7.6"
  }
 },
 "nbformat": 4,
 "nbformat_minor": 4
}
